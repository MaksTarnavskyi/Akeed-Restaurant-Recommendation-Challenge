{
 "cells": [
  {
   "cell_type": "code",
   "execution_count": 1,
   "metadata": {},
   "outputs": [],
   "source": [
    "import warnings \n",
    "warnings.filterwarnings('ignore')"
   ]
  },
  {
   "cell_type": "code",
   "execution_count": 2,
   "metadata": {},
   "outputs": [],
   "source": [
    "import pandas as pd\n",
    "import numpy as np\n",
    "\n",
    "from tqdm.auto import tqdm\n",
    "from sklearn.metrics.pairwise import euclidean_distances\n",
    "\n",
    "pd.options.display.max_columns=100"
   ]
  },
  {
   "cell_type": "code",
   "execution_count": 3,
   "metadata": {},
   "outputs": [],
   "source": [
    "data_path = \"data/\"\n",
    "orders = pd.read_csv(data_path +\"orders.csv\")\n",
    "vendors = pd.read_csv(data_path +\"vendors.csv\")\n",
    "train_locations = pd.read_csv(data_path +\"train_locations.csv\")\n",
    "test_locations = pd.read_csv(data_path +\"test_locations.csv\")\n",
    "train_customers = pd.read_csv(data_path +\"train_customers.csv\")\n",
    "test_customers = pd.read_csv(data_path +\"train_customers.csv\")\n",
    "SampleSubmission = pd.read_csv(data_path +\"SampleSubmission.csv\")"
   ]
  },
  {
   "cell_type": "code",
   "execution_count": 4,
   "metadata": {},
   "outputs": [
    {
     "data": {
      "text/html": [
       "<div>\n",
       "<style scoped>\n",
       "    .dataframe tbody tr th:only-of-type {\n",
       "        vertical-align: middle;\n",
       "    }\n",
       "\n",
       "    .dataframe tbody tr th {\n",
       "        vertical-align: top;\n",
       "    }\n",
       "\n",
       "    .dataframe thead th {\n",
       "        text-align: right;\n",
       "    }\n",
       "</style>\n",
       "<table border=\"1\" class=\"dataframe\">\n",
       "  <thead>\n",
       "    <tr style=\"text-align: right;\">\n",
       "      <th></th>\n",
       "      <th>customer_id</th>\n",
       "      <th>location_number</th>\n",
       "      <th>location_type</th>\n",
       "      <th>latitude</th>\n",
       "      <th>longitude</th>\n",
       "    </tr>\n",
       "  </thead>\n",
       "  <tbody>\n",
       "    <tr>\n",
       "      <th>0</th>\n",
       "      <td>02SFNJH</td>\n",
       "      <td>0</td>\n",
       "      <td>NaN</td>\n",
       "      <td>1.682392</td>\n",
       "      <td>-78.789737</td>\n",
       "    </tr>\n",
       "    <tr>\n",
       "      <th>1</th>\n",
       "      <td>02SFNJH</td>\n",
       "      <td>1</td>\n",
       "      <td>NaN</td>\n",
       "      <td>1.679137</td>\n",
       "      <td>0.766823</td>\n",
       "    </tr>\n",
       "  </tbody>\n",
       "</table>\n",
       "</div>"
      ],
      "text/plain": [
       "  customer_id  location_number location_type  latitude  longitude\n",
       "0     02SFNJH                0           NaN  1.682392 -78.789737\n",
       "1     02SFNJH                1           NaN  1.679137   0.766823"
      ]
     },
     "execution_count": 4,
     "metadata": {},
     "output_type": "execute_result"
    }
   ],
   "source": [
    "train_locations.head(2)"
   ]
  },
  {
   "cell_type": "code",
   "execution_count": 5,
   "metadata": {},
   "outputs": [
    {
     "data": {
      "text/html": [
       "<div>\n",
       "<style scoped>\n",
       "    .dataframe tbody tr th:only-of-type {\n",
       "        vertical-align: middle;\n",
       "    }\n",
       "\n",
       "    .dataframe tbody tr th {\n",
       "        vertical-align: top;\n",
       "    }\n",
       "\n",
       "    .dataframe thead th {\n",
       "        text-align: right;\n",
       "    }\n",
       "</style>\n",
       "<table border=\"1\" class=\"dataframe\">\n",
       "  <thead>\n",
       "    <tr style=\"text-align: right;\">\n",
       "      <th></th>\n",
       "      <th>akeed_order_id</th>\n",
       "      <th>customer_id</th>\n",
       "      <th>item_count</th>\n",
       "      <th>grand_total</th>\n",
       "      <th>payment_mode</th>\n",
       "      <th>promo_code</th>\n",
       "      <th>vendor_discount_amount</th>\n",
       "      <th>promo_code_discount_percentage</th>\n",
       "      <th>is_favorite</th>\n",
       "      <th>is_rated</th>\n",
       "      <th>vendor_rating</th>\n",
       "      <th>driver_rating</th>\n",
       "      <th>deliverydistance</th>\n",
       "      <th>preparationtime</th>\n",
       "      <th>delivery_time</th>\n",
       "      <th>order_accepted_time</th>\n",
       "      <th>driver_accepted_time</th>\n",
       "      <th>ready_for_pickup_time</th>\n",
       "      <th>picked_up_time</th>\n",
       "      <th>delivered_time</th>\n",
       "      <th>delivery_date</th>\n",
       "      <th>vendor_id</th>\n",
       "      <th>created_at</th>\n",
       "      <th>LOCATION_NUMBER</th>\n",
       "      <th>LOCATION_TYPE</th>\n",
       "      <th>CID X LOC_NUM X VENDOR</th>\n",
       "    </tr>\n",
       "  </thead>\n",
       "  <tbody>\n",
       "    <tr>\n",
       "      <th>0</th>\n",
       "      <td>163238.0</td>\n",
       "      <td>92PEE24</td>\n",
       "      <td>1.0</td>\n",
       "      <td>7.6</td>\n",
       "      <td>2</td>\n",
       "      <td>NaN</td>\n",
       "      <td>0.0</td>\n",
       "      <td>NaN</td>\n",
       "      <td>NaN</td>\n",
       "      <td>No</td>\n",
       "      <td>NaN</td>\n",
       "      <td>0.0</td>\n",
       "      <td>0.0</td>\n",
       "      <td>NaN</td>\n",
       "      <td>NaN</td>\n",
       "      <td>NaN</td>\n",
       "      <td>NaN</td>\n",
       "      <td>NaN</td>\n",
       "      <td>NaN</td>\n",
       "      <td>NaN</td>\n",
       "      <td>2019-07-31 05:30:00</td>\n",
       "      <td>105</td>\n",
       "      <td>2019-08-01 05:30:16</td>\n",
       "      <td>0</td>\n",
       "      <td>NaN</td>\n",
       "      <td>92PEE24 X 0 X 105</td>\n",
       "    </tr>\n",
       "    <tr>\n",
       "      <th>1</th>\n",
       "      <td>163240.0</td>\n",
       "      <td>QS68UD8</td>\n",
       "      <td>1.0</td>\n",
       "      <td>8.7</td>\n",
       "      <td>1</td>\n",
       "      <td>NaN</td>\n",
       "      <td>0.0</td>\n",
       "      <td>NaN</td>\n",
       "      <td>NaN</td>\n",
       "      <td>No</td>\n",
       "      <td>NaN</td>\n",
       "      <td>0.0</td>\n",
       "      <td>0.0</td>\n",
       "      <td>NaN</td>\n",
       "      <td>NaN</td>\n",
       "      <td>NaN</td>\n",
       "      <td>NaN</td>\n",
       "      <td>NaN</td>\n",
       "      <td>NaN</td>\n",
       "      <td>NaN</td>\n",
       "      <td>2019-07-31 05:30:00</td>\n",
       "      <td>294</td>\n",
       "      <td>2019-08-01 05:31:10</td>\n",
       "      <td>0</td>\n",
       "      <td>Work</td>\n",
       "      <td>QS68UD8 X 0 X 294</td>\n",
       "    </tr>\n",
       "  </tbody>\n",
       "</table>\n",
       "</div>"
      ],
      "text/plain": [
       "   akeed_order_id customer_id  item_count  grand_total  payment_mode  \\\n",
       "0        163238.0     92PEE24         1.0          7.6             2   \n",
       "1        163240.0     QS68UD8         1.0          8.7             1   \n",
       "\n",
       "  promo_code  vendor_discount_amount  promo_code_discount_percentage  \\\n",
       "0        NaN                     0.0                             NaN   \n",
       "1        NaN                     0.0                             NaN   \n",
       "\n",
       "  is_favorite is_rated  vendor_rating  driver_rating  deliverydistance  \\\n",
       "0         NaN       No            NaN            0.0               0.0   \n",
       "1         NaN       No            NaN            0.0               0.0   \n",
       "\n",
       "   preparationtime delivery_time order_accepted_time driver_accepted_time  \\\n",
       "0              NaN           NaN                 NaN                  NaN   \n",
       "1              NaN           NaN                 NaN                  NaN   \n",
       "\n",
       "  ready_for_pickup_time picked_up_time delivered_time        delivery_date  \\\n",
       "0                   NaN            NaN            NaN  2019-07-31 05:30:00   \n",
       "1                   NaN            NaN            NaN  2019-07-31 05:30:00   \n",
       "\n",
       "   vendor_id           created_at  LOCATION_NUMBER LOCATION_TYPE  \\\n",
       "0        105  2019-08-01 05:30:16                0           NaN   \n",
       "1        294  2019-08-01 05:31:10                0          Work   \n",
       "\n",
       "  CID X LOC_NUM X VENDOR  \n",
       "0      92PEE24 X 0 X 105  \n",
       "1      QS68UD8 X 0 X 294  "
      ]
     },
     "execution_count": 5,
     "metadata": {},
     "output_type": "execute_result"
    }
   ],
   "source": [
    "orders.head(2)"
   ]
  },
  {
   "cell_type": "code",
   "execution_count": 7,
   "metadata": {},
   "outputs": [
    {
     "data": {
      "text/html": [
       "<div>\n",
       "<style scoped>\n",
       "    .dataframe tbody tr th:only-of-type {\n",
       "        vertical-align: middle;\n",
       "    }\n",
       "\n",
       "    .dataframe tbody tr th {\n",
       "        vertical-align: top;\n",
       "    }\n",
       "\n",
       "    .dataframe thead th {\n",
       "        text-align: right;\n",
       "    }\n",
       "</style>\n",
       "<table border=\"1\" class=\"dataframe\">\n",
       "  <thead>\n",
       "    <tr style=\"text-align: right;\">\n",
       "      <th></th>\n",
       "      <th>customer_id</th>\n",
       "      <th>location_number</th>\n",
       "      <th>location_type</th>\n",
       "      <th>latitude</th>\n",
       "      <th>longitude</th>\n",
       "      <th>akeed_order_id</th>\n",
       "      <th>item_count</th>\n",
       "      <th>grand_total</th>\n",
       "      <th>payment_mode</th>\n",
       "      <th>promo_code</th>\n",
       "      <th>vendor_discount_amount</th>\n",
       "      <th>promo_code_discount_percentage</th>\n",
       "      <th>is_favorite</th>\n",
       "      <th>is_rated</th>\n",
       "      <th>vendor_rating</th>\n",
       "      <th>driver_rating</th>\n",
       "      <th>deliverydistance</th>\n",
       "      <th>preparationtime</th>\n",
       "      <th>delivery_time</th>\n",
       "      <th>order_accepted_time</th>\n",
       "      <th>driver_accepted_time</th>\n",
       "      <th>ready_for_pickup_time</th>\n",
       "      <th>picked_up_time</th>\n",
       "      <th>delivered_time</th>\n",
       "      <th>delivery_date</th>\n",
       "      <th>vendor_id</th>\n",
       "      <th>created_at</th>\n",
       "      <th>LOCATION_NUMBER</th>\n",
       "      <th>LOCATION_TYPE</th>\n",
       "      <th>CID X LOC_NUM X VENDOR</th>\n",
       "    </tr>\n",
       "  </thead>\n",
       "  <tbody>\n",
       "    <tr>\n",
       "      <th>0</th>\n",
       "      <td>02SFNJH</td>\n",
       "      <td>0</td>\n",
       "      <td>NaN</td>\n",
       "      <td>1.682392</td>\n",
       "      <td>-78.789737</td>\n",
       "      <td>235719.0</td>\n",
       "      <td>2.0</td>\n",
       "      <td>17.1</td>\n",
       "      <td>2</td>\n",
       "      <td>NaN</td>\n",
       "      <td>0.0</td>\n",
       "      <td>NaN</td>\n",
       "      <td>No</td>\n",
       "      <td>No</td>\n",
       "      <td>0.0</td>\n",
       "      <td>0.0</td>\n",
       "      <td>0.0</td>\n",
       "      <td>NaN</td>\n",
       "      <td>NaN</td>\n",
       "      <td>2019-10-25 14:11:24</td>\n",
       "      <td>NaN</td>\n",
       "      <td>2019-10-25 14:12:58</td>\n",
       "      <td>2019-10-25 18:29:40</td>\n",
       "      <td>2019-10-25 18:56:53</td>\n",
       "      <td>NaN</td>\n",
       "      <td>199</td>\n",
       "      <td>2019-10-25 18:09:38</td>\n",
       "      <td>1</td>\n",
       "      <td>Other</td>\n",
       "      <td>02SFNJH X 1 X 199</td>\n",
       "    </tr>\n",
       "    <tr>\n",
       "      <th>1</th>\n",
       "      <td>02SFNJH</td>\n",
       "      <td>0</td>\n",
       "      <td>NaN</td>\n",
       "      <td>1.682392</td>\n",
       "      <td>-78.789737</td>\n",
       "      <td>253305.0</td>\n",
       "      <td>6.0</td>\n",
       "      <td>26.4</td>\n",
       "      <td>1</td>\n",
       "      <td>NaN</td>\n",
       "      <td>0.0</td>\n",
       "      <td>NaN</td>\n",
       "      <td>No</td>\n",
       "      <td>No</td>\n",
       "      <td>0.0</td>\n",
       "      <td>0.0</td>\n",
       "      <td>5.1</td>\n",
       "      <td>40.0</td>\n",
       "      <td>NaN</td>\n",
       "      <td>2019-11-07 18:32:29</td>\n",
       "      <td>NaN</td>\n",
       "      <td>2019-11-07 18:46:20</td>\n",
       "      <td>2019-11-07 22:48:21</td>\n",
       "      <td>2019-11-07 23:13:14</td>\n",
       "      <td>NaN</td>\n",
       "      <td>159</td>\n",
       "      <td>2019-11-07 22:32:15</td>\n",
       "      <td>2</td>\n",
       "      <td>NaN</td>\n",
       "      <td>02SFNJH X 2 X 159</td>\n",
       "    </tr>\n",
       "  </tbody>\n",
       "</table>\n",
       "</div>"
      ],
      "text/plain": [
       "  customer_id  location_number location_type  latitude  longitude  \\\n",
       "0     02SFNJH                0           NaN  1.682392 -78.789737   \n",
       "1     02SFNJH                0           NaN  1.682392 -78.789737   \n",
       "\n",
       "   akeed_order_id  item_count  grand_total  payment_mode promo_code  \\\n",
       "0        235719.0         2.0         17.1             2        NaN   \n",
       "1        253305.0         6.0         26.4             1        NaN   \n",
       "\n",
       "   vendor_discount_amount  promo_code_discount_percentage is_favorite  \\\n",
       "0                     0.0                             NaN          No   \n",
       "1                     0.0                             NaN          No   \n",
       "\n",
       "  is_rated  vendor_rating  driver_rating  deliverydistance  preparationtime  \\\n",
       "0       No            0.0            0.0               0.0              NaN   \n",
       "1       No            0.0            0.0               5.1             40.0   \n",
       "\n",
       "  delivery_time  order_accepted_time driver_accepted_time  \\\n",
       "0           NaN  2019-10-25 14:11:24                  NaN   \n",
       "1           NaN  2019-11-07 18:32:29                  NaN   \n",
       "\n",
       "  ready_for_pickup_time       picked_up_time       delivered_time  \\\n",
       "0   2019-10-25 14:12:58  2019-10-25 18:29:40  2019-10-25 18:56:53   \n",
       "1   2019-11-07 18:46:20  2019-11-07 22:48:21  2019-11-07 23:13:14   \n",
       "\n",
       "  delivery_date  vendor_id           created_at  LOCATION_NUMBER  \\\n",
       "0           NaN        199  2019-10-25 18:09:38                1   \n",
       "1           NaN        159  2019-11-07 22:32:15                2   \n",
       "\n",
       "  LOCATION_TYPE CID X LOC_NUM X VENDOR  \n",
       "0         Other      02SFNJH X 1 X 199  \n",
       "1           NaN      02SFNJH X 2 X 159  "
      ]
     },
     "execution_count": 7,
     "metadata": {},
     "output_type": "execute_result"
    }
   ],
   "source": [
    "train_merge = train_locations.merge(orders, how=\"inner\", on=\"customer_id\")\n",
    "train_merge.head(2)"
   ]
  },
  {
   "cell_type": "code",
   "execution_count": 8,
   "metadata": {},
   "outputs": [],
   "source": [
    "train_good_merge = train_merge[train_merge[\"location_number\"] == train_merge[\"LOCATION_NUMBER\"]]"
   ]
  },
  {
   "cell_type": "code",
   "execution_count": 12,
   "metadata": {},
   "outputs": [],
   "source": [
    "train_good_merge = train_good_merge.fillna(0)\n",
    "test_locations = test_locations.fillna(0)"
   ]
  },
  {
   "cell_type": "code",
   "execution_count": 16,
   "metadata": {},
   "outputs": [
    {
     "data": {
      "text/html": [
       "<div>\n",
       "<style scoped>\n",
       "    .dataframe tbody tr th:only-of-type {\n",
       "        vertical-align: middle;\n",
       "    }\n",
       "\n",
       "    .dataframe tbody tr th {\n",
       "        vertical-align: top;\n",
       "    }\n",
       "\n",
       "    .dataframe thead th {\n",
       "        text-align: right;\n",
       "    }\n",
       "</style>\n",
       "<table border=\"1\" class=\"dataframe\">\n",
       "  <thead>\n",
       "    <tr style=\"text-align: right;\">\n",
       "      <th></th>\n",
       "      <th>customer_id</th>\n",
       "      <th>location_number</th>\n",
       "      <th>location_type</th>\n",
       "      <th>latitude</th>\n",
       "      <th>longitude</th>\n",
       "    </tr>\n",
       "  </thead>\n",
       "  <tbody>\n",
       "    <tr>\n",
       "      <th>0</th>\n",
       "      <td>Z59FTQD</td>\n",
       "      <td>0</td>\n",
       "      <td>0</td>\n",
       "      <td>126.032278</td>\n",
       "      <td>-9.106019</td>\n",
       "    </tr>\n",
       "    <tr>\n",
       "      <th>1</th>\n",
       "      <td>0JP29SK</td>\n",
       "      <td>0</td>\n",
       "      <td>Home</td>\n",
       "      <td>0.278709</td>\n",
       "      <td>-78.623847</td>\n",
       "    </tr>\n",
       "  </tbody>\n",
       "</table>\n",
       "</div>"
      ],
      "text/plain": [
       "  customer_id  location_number location_type    latitude  longitude\n",
       "0     Z59FTQD                0             0  126.032278  -9.106019\n",
       "1     0JP29SK                0          Home    0.278709 -78.623847"
      ]
     },
     "execution_count": 16,
     "metadata": {},
     "output_type": "execute_result"
    }
   ],
   "source": [
    "test_locations.head(2)"
   ]
  },
  {
   "cell_type": "code",
   "execution_count": 17,
   "metadata": {},
   "outputs": [
    {
     "data": {
      "text/plain": [
       "16720"
      ]
     },
     "execution_count": 17,
     "metadata": {},
     "output_type": "execute_result"
    }
   ],
   "source": [
    "len(test_locations)"
   ]
  },
  {
   "cell_type": "code",
   "execution_count": 19,
   "metadata": {},
   "outputs": [],
   "source": [
    "test_loc = test_locations[[\"latitude\", \"longitude\"]].values\n",
    "train_loc = train_good_merge[[\"latitude\", \"longitude\"]].values\n",
    "train_vend = train_good_merge[\"vendor_id\"].values"
   ]
  },
  {
   "cell_type": "code",
   "execution_count": 24,
   "metadata": {},
   "outputs": [],
   "source": [
    "euc = euclidean_distances(test_loc, train_loc)"
   ]
  },
  {
   "cell_type": "code",
   "execution_count": 26,
   "metadata": {},
   "outputs": [
    {
     "data": {
      "application/vnd.jupyter.widget-view+json": {
       "model_id": "db21daf2c83d4c8498d689b3ceb28f30",
       "version_major": 2,
       "version_minor": 0
      },
      "text/plain": [
       "HBox(children=(FloatProgress(value=0.0, max=16720.0), HTML(value='')))"
      ]
     },
     "metadata": {},
     "output_type": "display_data"
    },
    {
     "name": "stdout",
     "output_type": "stream",
     "text": [
      "\n"
     ]
    }
   ],
   "source": [
    "vendors_for_users = []\n",
    "for i in tqdm(range(len(test_loc))):\n",
    "    unique, counts = np.unique(train_vend[np.argsort(euc[i])[:25]], return_counts=True)\n",
    "    vendors_for_users.append(unique[counts>=2])"
   ]
  },
  {
   "cell_type": "code",
   "execution_count": 28,
   "metadata": {},
   "outputs": [],
   "source": [
    "vendors_id = set(list(vendors[\"id\"].values))"
   ]
  },
  {
   "cell_type": "code",
   "execution_count": 29,
   "metadata": {},
   "outputs": [
    {
     "data": {
      "application/vnd.jupyter.widget-view+json": {
       "model_id": "5a9d545abfe547209e289e5a5b4ef70e",
       "version_major": 2,
       "version_minor": 0
      },
      "text/plain": [
       "HBox(children=(FloatProgress(value=1.0, bar_style='info', max=1.0), HTML(value='')))"
      ]
     },
     "metadata": {},
     "output_type": "display_data"
    },
    {
     "name": "stdout",
     "output_type": "stream",
     "text": [
      "\n"
     ]
    }
   ],
   "source": [
    "final_list = []\n",
    "for i, user_loc_val  in tqdm(enumerate(test_locations[[\"customer_id\", \"location_number\"]].values)):\n",
    "    vendors_to_add = vendors_for_users[i]\n",
    "    vendors_not_to_add = list(vendors_id - set(vendors_to_add))\n",
    "    \n",
    "    for vend in vendors_to_add:\n",
    "        final_list.append([str(user_loc_val[0])+\" X \"+str(int(user_loc_val[1]))+\" X \"+str(int(vend)), 1])\n",
    "    for vend in vendors_not_to_add:\n",
    "        final_list.append([str(user_loc_val[0])+\" X \"+str(int(user_loc_val[1]))+\" X \"+str(int(vend)), 0])"
   ]
  },
  {
   "cell_type": "code",
   "execution_count": 30,
   "metadata": {},
   "outputs": [],
   "source": [
    "submit = pd.DataFrame(final_list, columns = [\"CID X LOC_NUM X VENDOR\", \"target\"])"
   ]
  },
  {
   "cell_type": "code",
   "execution_count": 31,
   "metadata": {},
   "outputs": [
    {
     "data": {
      "text/plain": [
       "0    1589489\n",
       "1      82511\n",
       "Name: target, dtype: int64"
      ]
     },
     "execution_count": 31,
     "metadata": {},
     "output_type": "execute_result"
    }
   ],
   "source": [
    "submit[\"target\"].value_counts()"
   ]
  },
  {
   "cell_type": "code",
   "execution_count": 32,
   "metadata": {},
   "outputs": [],
   "source": [
    "submit.to_csv(\"knn_25_2.csv\", index=None)"
   ]
  }
 ],
 "metadata": {
  "kernelspec": {
   "display_name": "Python 3",
   "language": "python",
   "name": "python3"
  },
  "language_info": {
   "codemirror_mode": {
    "name": "ipython",
    "version": 3
   },
   "file_extension": ".py",
   "mimetype": "text/x-python",
   "name": "python",
   "nbconvert_exporter": "python",
   "pygments_lexer": "ipython3",
   "version": "3.6.11"
  }
 },
 "nbformat": 4,
 "nbformat_minor": 2
}
